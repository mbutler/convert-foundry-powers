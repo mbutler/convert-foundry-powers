{
 "cells": [
  {
   "cell_type": "code",
   "execution_count": 11,
   "metadata": {},
   "outputs": [],
   "source": [
    "import json\n",
    "import copy"
   ]
  },
  {
   "cell_type": "code",
   "execution_count": 10,
   "metadata": {},
   "outputs": [],
   "source": [
    "#https://bitbucket.org/frabjous/tractatus/src/master/tlp_latex.json\n",
    "with open(\"comp_powers.json\", encoding='utf-8') as f:\n",
    "  comp_powers = json.load(f)\n",
    "with open(\"clean_powers.json\", encoding='utf-8') as f:\n",
    "  clean_powers = json.load(f)\n",
    "with open(\"power-template.json\", encoding='utf-8') as f:\n",
    "  template_power = json.load(f)"
   ]
  },
  {
   "cell_type": "code",
   "execution_count": 12,
   "metadata": {},
   "outputs": [],
   "source": [
    "new_power = copy.deepcopy(template_power)"
   ]
  },
  {
   "cell_type": "code",
   "execution_count": 16,
   "metadata": {},
   "outputs": [],
   "source": [
    "test_power = {\n",
    "        \"id\": \"1846\",\n",
    "        \"name\": \"Windsoul Whirlwind\",\n",
    "        \"flavor\": \"A twisting cyclone of rending winds forms around you, flinging foes into the air. The whirlwind moves at your command, wreaking havoc on the enemy.\",\n",
    "        \"source\": \"Published in Forgotten Realms Player's Guide, page(s) 70.\",\n",
    "        \"keywords\": \"Conjuration, Zone\",\n",
    "        \"action\": \"Standard\",\n",
    "        \"type\": \"Daily Attack\",\n",
    "        \"level\": \"20\",\n",
    "        \"class\": \"Whirlwind Genasi\",\n",
    "        \"description\": [\n",
    "            \"Hit: 3d10 + Intelligence modifier, Wisdom modifier, or Charisma modifier damage, and you slide the target 2 squares.\",\n",
    "            \"Sustain Minor: You can move the burst 3 squares, then slide each target in the burst 1 square.\",\n",
    "            \"Target: Each creature in the burst\",\n",
    "            \"Attack: Intelligence + 5 vs. Fortitude, Wisdom + 5 vs. Fortitude, or Charisma + 5 vs. Fortitude Increase the bonus on attack rolls to +7 at 26th level.\",\n",
    "            \"Effect: The zone lasts until the end of your next turn.\"\n",
    "        ],\n",
    "        \"raw\": \"<h1 class=dailypower>Windsoul Whirlwind<span class=level>Whirlwind Genasi Attack 20</span></h1><p class=flavor><i>A twisting cyclone of rending winds forms around you, flinging foes into the air. The whirlwind moves at your command, wreaking havoc on the enemy.</i></p><p class=powerstat><b>Daily</b>   ✦     <b>Conjuration</b>, <b>Zone</b><br><b>Standard Action</b>      <b>Area</b> burst 1 within 10 squares</p><p class=powerstat><b>Target</b>: Each creature in the burst</p><p class=powerstat><b>Attack</b>: Intelligence + 5 vs. Fortitude, Wisdom + 5 vs. Fortitude, or Charisma + 5 vs. Fortitude Increase the bonus on attack rolls to +7 at 26th level.</p><p class=flavor><b>Hit</b>: 3d10 + Intelligence modifier, Wisdom modifier, or Charisma modifier damage, and you slide the target 2 squares.</p><p class=powerstat><b>Effect</b>: The zone lasts until the end of your next turn.</p><p class=flavor><b>Sustain Minor</b>: You can move the burst 3 squares, then slide each target in the burst 1 square.</p><br><p class=publishedIn>Published in Forgotten Realms Player's Guide, page(s) 70.</p>\"\n",
    "}"
   ]
  },
  {
   "cell_type": "code",
   "execution_count": 19,
   "metadata": {},
   "outputs": [],
   "source": [
    "#print(new_power['data']['attack']['isAttack'])\n",
    "comp_power = [p for p in comp_powers if p['id'] == test_power['id']]"
   ]
  },
  {
   "cell_type": "code",
   "execution_count": 20,
   "metadata": {
    "collapsed": true
   },
   "outputs": [
    {
     "name": "stdout",
     "output_type": "stream",
     "text": [
      "{'name': 'Windsoul Whirlwind', 'type': 'power', 'data': {'description': {'value': 'A twisting cyclone of rending winds forms around you, flinging foes into the air. The whirlwind moves at your command, wreaking havoc on the enemy.', 'chat': '', 'unidentified': ''}, 'source': \"Published in Forgotten Realms Player's Guide, page(s) 70.\", 'activation': {'type': '', 'cost': 0, 'condition': ''}, 'duration': {'value': None, 'units': ''}, 'target': 'Each creature in the burst', 'range': {'value': None, 'long': None, 'units': ''}, 'uses': {'value': 0, 'max': 0, 'per': ''}, 'consume': {'type': '', 'target': '', 'amount': None}, 'ability': None, 'actionType': 'reaction', 'attackBonus': 0, 'chatFlavor': '', 'critical': None, 'damage': {'parts': [], 'versatile': ''}, 'damageCrit': {'parts': [], 'versatile': ''}, 'damageImp': {'parts': [], 'versatile': ''}, 'damageCritImp': {'parts': [], 'versatile': ''}, 'formula': '', 'save': {'ability': '', 'dc': None, 'scaling': 'spell'}, 'macro': {'type': 'script', 'scope': 'global', 'launchOrder': 'off', 'command': '', 'author': ''}, 'keyWords': [''], 'level': '1', 'powersource': 'martial', 'subName': '', 'prepared': True, 'powerType': 'class', 'useType': 'atwill', 'requirements': '', 'weaponType': 'melee', 'weaponUse': 'default', 'rangeType': 'weapon', 'rangeTextShort': '', 'rangeText': '', 'rangePower': None, 'area': 0, 'rechargeRoll': '', 'damageShare': False, 'postEffect': True, 'postSpecial': True, 'sustain': {'actionType': 'none', 'detail': ''}, 'attack': {'isAttack': True, 'ability': 'str', 'abilityBonus': 0, 'def': 'ac', 'defBonus': 0, 'formula': '1d20+@wepAttack+@powerMod+@lvhalf', 'damageType': {}, 'effectType': {}}, 'hit': {'isDamage': True, 'detail': '1[W] + Strength modifier damage.', 'formula': '@wepDice(1) + @powerMod + @wepDamage', 'critFormula': '@wepMax * 1 + @powerMod + @wepDamage + @wepCritBonus'}, 'miss': {'detail': 'Half Damage.', 'formula': '@{damageFormula}/2'}, 'effect': {'detail': ''}, 'trigger': '', 'requirement': '', 'special': '', 'damageType': {'damage': False, 'acid': False, 'cold': False, 'fire': False, 'force': False, 'lightning': False, 'necrotic': False, 'physical': False, 'poison': False, 'psychic': False, 'radiant': False, 'thunder': False}, 'effectType': {'beast': False, 'beastForm': False, 'charm': False, 'conjuration': False, 'fear': False, 'healing': False, 'illusion': False, 'invigorating': False, 'poison': False, 'polymorph': False, 'rage': False, 'rattling': False, 'reliable': False, 'sleep': False, 'spirit': False, 'stance': False, 'summoning': False, 'teleportation': False, 'zone': False}}, 'sort': 700000, 'flags': {}, 'effects': [], 'img': 'icons/svg/mystery-man.svg', 'powerId': '1846'}\n"
     ]
    }
   ],
   "source": [
    "new_power['name'] = test_power['name']\n",
    "new_power['powerId'] = test_power['id']\n",
    "new_power['data']['description']['value'] = test_power['flavor']\n",
    "new_power['data']['source'] = test_power['source']\n",
    "for description in test_power['description']:\n",
    "    if (\"Target:\" in description):\n",
    "        new_power['data']['target'] = description.replace(\"Target: \", \"\")\n",
    "    if (\"Attack:\" in description):\n",
    "        new_power['data']['target'] = description.replace(\"Target: \", \"\")\n",
    "\n",
    "print(new_power)\n",
    "    "
   ]
  },
  {
   "cell_type": "code",
   "execution_count": 4,
   "metadata": {},
   "outputs": [
    {
     "name": "stdout",
     "output_type": "stream",
     "text": [
      "'6.0121'\n",
      "'6.2311'\n"
     ]
    }
   ],
   "source": [
    "sections = []\n",
    "for section in sectionsJson['sections']:\n",
    "    try:\n",
    "        newSection = {}\n",
    "        newSection[\"label\"] = section[\"label\"]\n",
    "        newSection[\"precision\"] = section[\"precision\"]\n",
    "        newSection[\"fontSize\"] = section[\"fontSize\"]\n",
    "        newSection[\"y_axis\"] = section[\"y_axis\"]\n",
    "        newSection[\"x_axis\"] = section[\"x_axis\"]\n",
    "        newSection[\"ger\"] = \" \".join(latexJson[section[\"label\"]][\"German\"])\n",
    "        newSection[\"pmc\"] = \" \".join(latexJson[section[\"label\"]][\"PearsMcGuinness\"])\n",
    "        newSection[\"ogd\"] = \" \".join(latexJson[section[\"label\"]][\"Ogden\"])\n",
    "        newSection[\"str\"] = \"\"\n",
    "        sections.append(newSection)\n",
    "    except Exception as e:\n",
    "        print(e)\n",
    "sections.append(odd1)\n",
    "sections.append(odd2)\n",
    "        \n",
    "tlp = {\"sections\": sections}\n",
    "        \n",
    "with open('sectionsJson-html.json', 'w', encoding='utf8') as f:\n",
    "    json.dump(tlp, f, indent=4, ensure_ascii=False)"
   ]
  },
  {
   "cell_type": "markdown",
   "metadata": {},
   "source": [
    "{\n",
    "    \"label\": \"6.0121\",\n",
    "    \"precision\": 4,\n",
    "    \"fontSize\": \"18px\",\n",
    "    \"y_axis\": 7,\n",
    "    \"x_axis\": 111,\n",
    "    \"ger\": \"\",\n",
    "    \"ogd\": \"\",\n",
    "    \"str\": \"\"\n",
    "}\n",
    "\n",
    "{\n",
    "    \"label\": \"6.2311\",\n",
    "    \"precision\": 4,\n",
    "    \"fontSize\": \"18px\",\n",
    "    \"y_axis\": 29,\n",
    "    \"x_axis\": 115,\n",
    "    \"ger\": \"\",\n",
    "    \"ogd\": \"\",\n",
    "    \"str\": \"\"\n",
    "}"
   ]
  },
  {
   "cell_type": "code",
   "execution_count": null,
   "metadata": {},
   "outputs": [],
   "source": []
  }
 ],
 "metadata": {
  "kernelspec": {
   "display_name": "Python 3",
   "language": "python",
   "name": "python3"
  },
  "language_info": {
   "codemirror_mode": {
    "name": "ipython",
    "version": 3
   },
   "file_extension": ".py",
   "mimetype": "text/x-python",
   "name": "python",
   "nbconvert_exporter": "python",
   "pygments_lexer": "ipython3",
   "version": "3.8.5"
  }
 },
 "nbformat": 4,
 "nbformat_minor": 2
}
